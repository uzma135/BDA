{
  "nbformat": 4,
  "nbformat_minor": 0,
  "metadata": {
    "colab": {
      "name": "Pyspark.ipynb",
      "provenance": [],
      "collapsed_sections": []
    },
    "kernelspec": {
      "name": "python3",
      "display_name": "Python 3"
    },
    "language_info": {
      "name": "python"
    }
  },
  "cells": [
    {
      "cell_type": "code",
      "metadata": {
        "id": "DOv6BBV-U2Uo"
      },
      "source": [
        "!apt-get install openjdk-8-jdk-headless -qq > /dev/null"
      ],
      "execution_count": null,
      "outputs": []
    },
    {
      "cell_type": "code",
      "metadata": {
        "id": "sHyOcZLWetb1"
      },
      "source": [
        "!wget -q https://mirrors.estointernet.in/apache/spark/spark-3.1.2/spark-3.1.2-bin-hadoop3.2.tgz"
      ],
      "execution_count": null,
      "outputs": []
    },
    {
      "cell_type": "code",
      "metadata": {
        "id": "aummEasEeyMg"
      },
      "source": [
        "!tar xf spark-3.1.2-bin-hadoop3.2.tgz"
      ],
      "execution_count": null,
      "outputs": []
    },
    {
      "cell_type": "code",
      "metadata": {
        "id": "xV1dBC5Pe1i8"
      },
      "source": [
        "!pip install -q findspark"
      ],
      "execution_count": null,
      "outputs": []
    },
    {
      "cell_type": "code",
      "metadata": {
        "id": "4EiuU2oUe6Oj"
      },
      "source": [
        "import os\n",
        "os.environ[\"JAVA_HOME\"] = \"/usr/lib/jvm/java-8-openjdk-amd64\"\n",
        "os.environ[\"SPARK_HOME\"] = \"/content/spark-3.1.2-bin-hadoop3.2\""
      ],
      "execution_count": null,
      "outputs": []
    },
    {
      "cell_type": "code",
      "metadata": {
        "colab": {
          "base_uri": "https://localhost:8080/",
          "height": 35
        },
        "id": "gGb7MtNRe8V2",
        "outputId": "6b9761b5-7f94-40eb-cfa8-a6d1a45b63dc"
      },
      "source": [
        "os.environ[\"SPARK_HOME\"]"
      ],
      "execution_count": null,
      "outputs": [
        {
          "output_type": "execute_result",
          "data": {
            "application/vnd.google.colaboratory.intrinsic+json": {
              "type": "string"
            },
            "text/plain": [
              "'/content/spark-3.1.2-bin-hadoop3.2'"
            ]
          },
          "metadata": {
            "tags": []
          },
          "execution_count": 6
        }
      ]
    },
    {
      "cell_type": "code",
      "metadata": {
        "id": "EkG0SF0kfCpb"
      },
      "source": [
        "import findspark\n",
        "findspark.init()"
      ],
      "execution_count": null,
      "outputs": []
    },
    {
      "cell_type": "code",
      "metadata": {
        "colab": {
          "base_uri": "https://localhost:8080/"
        },
        "id": "VnZNR-ESfR0q",
        "outputId": "82aae44b-11bb-4267-c00e-578ecc2bd8f5"
      },
      "source": [
        "data = [('James','','Smith','1991-04-01','M',3000),\n",
        "  ('Michael','Rose','','2000-05-19','M',4000),\n",
        "  ('Robert','','Williams','1978-09-05','M',4000),\n",
        "  ('Maria','Anne','Jones','1967-12-01','F',4000),\n",
        "  ('Jen','Mary','Brown','1980-02-17','F',-1)\n",
        "]\n",
        " \n",
        "columns = [\"firstname\",\"middlename\",\"lastname\",\"dob\",\"gender\",\"salary\"]\n",
        "df = spark.createDataFrame(data=data, schema = columns)\n",
        "df"
      ],
      "execution_count": null,
      "outputs": [
        {
          "output_type": "execute_result",
          "data": {
            "text/plain": [
              "DataFrame[firstname: string, middlename: string, lastname: string, dob: string, gender: string, salary: bigint]"
            ]
          },
          "metadata": {
            "tags": []
          },
          "execution_count": 18
        }
      ]
    },
    {
      "cell_type": "markdown",
      "metadata": {
        "id": "6gOt2E0Sf1Vd"
      },
      "source": [
        "**Create DataFrames**"
      ]
    },
    {
      "cell_type": "code",
      "metadata": {
        "colab": {
          "base_uri": "https://localhost:8080/"
        },
        "id": "EJLh-Sc0gAPi",
        "outputId": "9d8c7073-618d-4920-c7e7-0c1c655c571b"
      },
      "source": [
        "# Create DataFrames\n",
        "# import pyspark class Row from module sql\n",
        "from pyspark.sql import *\n",
        "\n",
        "# Create Example Data - Departments and Employees\n",
        "\n",
        "# Create the Departments\n",
        "department1 = Row(id='123456', name='Computer Science')\n",
        "department2 = Row(id='789012', name='Mechanical Engineering')\n",
        "department3 = Row(id='345678', name='Theater and Drama')\n",
        "department4 = Row(id='901234', name='Indoor Recreation')\n",
        "\n",
        "# Create the Employees\n",
        "Employee = Row(\"firstName\", \"lastName\", \"email\", \"salary\")\n",
        "employee1 = Employee('michael', 'armbrust', 'no-reply@berkeley.edu', 100000)\n",
        "employee2 = Employee('xiangrui', 'meng', 'no-reply@stanford.edu', 120000)\n",
        "employee3 = Employee('matei', None, 'no-reply@waterloo.edu', 140000)\n",
        "employee4 = Employee(None, 'wendell', 'no-reply@berkeley.edu', 160000)\n",
        "employee5 = Employee('michael', 'jackson', 'no-reply@neverla.nd', 80000)\n",
        "\n",
        "# Create the DepartmentWithEmployees instances from Departments and Employees\n",
        "departmentWithEmployees1 = Row(department=department1, employees=[employee1, employee2])\n",
        "departmentWithEmployees2 = Row(department=department2, employees=[employee3, employee4])\n",
        "departmentWithEmployees3 = Row(department=department3, employees=[employee5, employee4])\n",
        "departmentWithEmployees4 = Row(department=department4, employees=[employee2, employee3])\n",
        "\n",
        "print(department1)\n",
        "print(employee2)\n",
        "print(departmentWithEmployees1.employees[0].firstName)"
      ],
      "execution_count": null,
      "outputs": [
        {
          "output_type": "stream",
          "text": [
            "Row(id='123456', name='Computer Science')\n",
            "Row(firstName='xiangrui', lastName='meng', email='no-reply@stanford.edu', salary=120000)\n",
            "michael\n"
          ],
          "name": "stdout"
        }
      ]
    },
    {
      "cell_type": "markdown",
      "metadata": {
        "id": "BY7pA-T-gLnH"
      },
      "source": [
        "Create DataFrames from a list of the row"
      ]
    },
    {
      "cell_type": "code",
      "metadata": {
        "colab": {
          "base_uri": "https://localhost:8080/",
          "height": 35
        },
        "id": "Lgi2t7DZgP5_",
        "outputId": "2b84e57a-cca6-4806-951f-c8f20e33b201"
      },
      "source": [
        "departmentsWithEmployeesSeq1 = [departmentWithEmployees1, departmentWithEmployees2]\n",
        "df1 = spark.createDataFrame(departmentsWithEmployeesSeq1)\n",
        " \n",
        "display(df1)"
      ],
      "execution_count": null,
      "outputs": [
        {
          "output_type": "display_data",
          "data": {
            "text/plain": [
              "DataFrame[department: struct<id:string,name:string>, employees: array<struct<firstName:string,lastName:string,email:string,salary:bigint>>]"
            ]
          },
          "metadata": {
            "tags": []
          }
        }
      ]
    },
    {
      "cell_type": "code",
      "metadata": {
        "colab": {
          "base_uri": "https://localhost:8080/"
        },
        "id": "NRlZDbMMg8rJ",
        "outputId": "0499ea2b-ccf0-479d-9021-529d39656e18"
      },
      "source": [
        "users_list_1 = [(1, \"John\", \"London\"), (2, \"Martin\", \"New York\"), (3, \"Sam\", \"Sydney\"), (4, \"Alan\", \"Mexico City\"), (5, \"Jacob\", \"Florida\")]\n",
        "\n",
        "users_df_1 = spark.createDataFrame(users_list_1)\n",
        "users_df_1.show(10)\n",
        "users_df_1.printSchema()"
      ],
      "execution_count": null,
      "outputs": [
        {
          "output_type": "stream",
          "text": [
            "+---+------+-----------+\n",
            "| _1|    _2|         _3|\n",
            "+---+------+-----------+\n",
            "|  1|  John|     London|\n",
            "|  2|Martin|   New York|\n",
            "|  3|   Sam|     Sydney|\n",
            "|  4|  Alan|Mexico City|\n",
            "|  5| Jacob|    Florida|\n",
            "+---+------+-----------+\n",
            "\n",
            "root\n",
            " |-- _1: long (nullable = true)\n",
            " |-- _2: string (nullable = true)\n",
            " |-- _3: string (nullable = true)\n",
            "\n"
          ],
          "name": "stdout"
        }
      ]
    },
    {
      "cell_type": "code",
      "metadata": {
        "colab": {
          "base_uri": "https://localhost:8080/"
        },
        "id": "mVe_NEVihND4",
        "outputId": "f053d6a8-66ff-4ead-8252-03ce4467dfb8"
      },
      "source": [
        "from pyspark.sql.types import StructType, StructField, IntegerType, StringType\n",
        "\n",
        "users_schema = StructType([\n",
        "                          StructField(\"id\", IntegerType(), False),\n",
        "                          StructField(\"name\", StringType(), True),\n",
        "                          StructField(\"city\", StringType(), True)])\n",
        "\n",
        "users_df_11 = spark.createDataFrame(users_list_1, schema=users_schema)\n",
        "users_df_11.show(10)\n",
        "users_df_11.printSchema()"
      ],
      "execution_count": null,
      "outputs": [
        {
          "output_type": "stream",
          "text": [
            "+---+------+-----------+\n",
            "| id|  name|       city|\n",
            "+---+------+-----------+\n",
            "|  1|  John|     London|\n",
            "|  2|Martin|   New York|\n",
            "|  3|   Sam|     Sydney|\n",
            "|  4|  Alan|Mexico City|\n",
            "|  5| Jacob|    Florida|\n",
            "+---+------+-----------+\n",
            "\n",
            "root\n",
            " |-- id: integer (nullable = false)\n",
            " |-- name: string (nullable = true)\n",
            " |-- city: string (nullable = true)\n",
            "\n"
          ],
          "name": "stdout"
        }
      ]
    }
  ]
}